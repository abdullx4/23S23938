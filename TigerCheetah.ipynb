{
  "nbformat": 4,
  "nbformat_minor": 0,
  "metadata": {
    "colab": {
      "provenance": [],
      "authorship_tag": "ABX9TyMgMgCvBhhsC4aK9bnh2K4k",
      "include_colab_link": true
    },
    "kernelspec": {
      "name": "python3",
      "display_name": "Python 3"
    },
    "language_info": {
      "name": "python"
    }
  },
  "cells": [
    {
      "cell_type": "markdown",
      "metadata": {
        "id": "view-in-github",
        "colab_type": "text"
      },
      "source": [
        "<a href=\"https://colab.research.google.com/github/abdullx4/23S23938/blob/main/TigerCheetah.ipynb\" target=\"_parent\"><img src=\"https://colab.research.google.com/assets/colab-badge.svg\" alt=\"Open In Colab\"/></a>"
      ]
    },
    {
      "cell_type": "code",
      "execution_count": 25,
      "metadata": {
        "id": "VUp1WRix4MUr"
      },
      "outputs": [],
      "source": [
        "import os\n",
        "import cv2\n",
        "import numpy as np\n",
        "import matplotlib.pyplot as plt\n",
        "import seaborn as sns\n",
        "from sklearn.model_selection import train_test_split\n",
        "from sklearn.tree import DecisionTreeClassifier\n",
        "from sklearn.neighbors import KNeighborsClassifier\n",
        "from sklearn.metrics import accuracy_score, classification_report, confusion_matrix, roc_curve, auc\n",
        "from sklearn.preprocessing import label_binarize"
      ]
    },
    {
      "cell_type": "code",
      "source": [
        "# List files and folders in the current directory\n",
        "print(os.listdir('/content'))"
      ],
      "metadata": {
        "colab": {
          "base_uri": "https://localhost:8080/"
        },
        "id": "NyYFD8097CQO",
        "outputId": "c03c4305-9d04-4cab-d5bd-190e4d831aae"
      },
      "execution_count": 26,
      "outputs": [
        {
          "output_type": "stream",
          "name": "stdout",
          "text": [
            "['.config', 'tiger', '.ipynb_checkpoints', 'sample_data', 'cheetah']\n"
          ]
        }
      ]
    },
    {
      "cell_type": "code",
      "source": [
        "# Check the contents of 'tiger' and 'cheetah' folders\n",
        "print(\"Tiger Images:\", os.listdir('/content/tiger'))\n",
        "print(\"Cheetah Images:\", os.listdir('/content/cheetah'))\n"
      ],
      "metadata": {
        "colab": {
          "base_uri": "https://localhost:8080/"
        },
        "id": "YlGL_Fsp7Mh-",
        "outputId": "f8cd2ff5-9e11-4e67-cb59-9c64598c29a8"
      },
      "execution_count": 27,
      "outputs": [
        {
          "output_type": "stream",
          "name": "stdout",
          "text": [
            "Tiger Images: ['tiger_165_resized.jpg', 'tiger_802_resized.jpg', 'tiger_267_resized.jpg', 'tiger_571_resized.jpg', 'tiger_615_resized.jpg', 'tiger_073_resized.jpg', 'tiger_014_resized.jpg', 'tiger_370_resized.jpg', 'tiger_298_resized.jpg', 'tiger_183_resized.jpg', 'tiger_414_resized.jpg', 'tiger_409_resized.jpg', 'tiger_339_resized.jpg', 'tiger_386_resized.jpg', 'tiger_061_resized.jpg', 'tiger_030_resized.jpg', 'tiger_301_resized.jpg', 'tiger_426_resized.jpg', 'tiger_300_resized.jpg', 'tiger_217_resized.jpg', 'tiger_204_resized.jpg', 'tiger_394_resized.jpg', 'tiger_039_resized.jpg', 'tiger_168_resized.jpg', 'tiger_048_resized.jpg', 'tiger_274_resized.jpg', 'tiger_357_resized.jpg', 'tiger_201_resized.jpg', 'tiger_227_resized.jpg', 'tiger_176_resized.jpg', 'tiger_242_resized.jpg', 'tiger_007_resized.jpg', 'tiger_323_resized.jpg', 'tiger_311_resized.jpg', 'tiger_153_resized.jpg', 'tiger_071_resized.jpg', 'tiger_232_resized.jpg', 'tiger_341_resized.jpg', 'tiger_169_resized.jpg', 'tiger_373_resized.jpg', 'tiger_124_resized.jpg', 'tiger_106_resized.jpg', 'tiger_422_resized.jpg', 'tiger_046_resized.jpg', 'tiger_028_resized.jpg', 'tiger_216_resized.jpg', 'tiger_286_resized.jpg', 'tiger_095_resized.jpg', 'tiger_094_resized.jpg', 'tiger_427_resized.jpg', 'tiger_281_resized.jpg', 'tiger_296_resized.jpg', 'tiger_118_resized.jpg', 'tiger_291_resized.jpg', 'tiger_131_resized.jpg', 'tiger_076_resized.jpg', 'tiger_087_resized.jpg', 'tiger_004_resized.jpg', 'tiger_371_resized.jpg', 'tiger_185_resized.jpg', 'tiger_303_resized.jpg', 'tiger_058_resized.jpg', 'tiger_835_resized.jpg', 'tiger_277_resized.jpg', 'tiger_069_resized.jpg', 'tiger_257_resized.jpg', 'tiger_049_resized.jpg', 'tiger_318_resized.jpg', 'tiger_334_resized.jpg', 'tiger_393_resized.jpg', 'tiger_026_resized.jpg', 'tiger_308_resized.jpg', 'tiger_172_resized.jpg', 'tiger_692_resized.jpg', 'tiger_008_resized.jpg', 'tiger_747_resized.jpg', 'tiger_091_resized.jpg', 'tiger_332_resized.jpg', 'tiger_231_resized.jpg', 'tiger_053_resized.jpg', 'tiger_273_resized.jpg', 'tiger_180_resized.jpg', 'tiger_215_resized.jpg', 'tiger_419_resized.jpg', 'tiger_725_resized.jpg', 'tiger_025_resized.jpg', 'tiger_218_resized.jpg', 'tiger_383_resized.jpg', 'tiger_077_resized.jpg', 'tiger_221_resized.jpg', 'tiger_117_resized.jpg', 'tiger_097_resized.jpg', 'tiger_195_resized.jpg', 'tiger_141_resized.jpg', 'tiger_154_resized.jpg', 'tiger_582_resized.jpg', 'tiger_378_resized.jpg', 'tiger_560_resized.jpg', 'tiger_196_resized.jpg', 'tiger_648_resized.jpg', 'tiger_002_resized.jpg', 'tiger_052_resized.jpg', 'tiger_421_resized.jpg', 'tiger_103_resized.jpg', 'tiger_005_resized.jpg', 'tiger_085_resized.jpg', 'tiger_240_resized.jpg', 'tiger_313_resized.jpg', 'tiger_086_resized.jpg', 'tiger_391_resized.jpg', 'tiger_284_resized.jpg', 'tiger_108_resized.jpg', 'tiger_190_resized.jpg', 'tiger_412_resized.jpg', 'tiger_483_resized.jpg', 'tiger_080_resized.jpg', 'tiger_359_resized.jpg', 'tiger_406_resized.jpg', 'tiger_239_resized.jpg', 'tiger_012_resized.jpg', 'tiger_703_resized.jpg', 'tiger_350_resized.jpg', 'tiger_128_resized.jpg', 'tiger_325_resized.jpg', 'tiger_403_resized.jpg', 'tiger_319_resized.jpg', 'tiger_205_resized.jpg', 'tiger_388_resized.jpg', 'tiger_538_resized.jpg', 'tiger_264_resized.jpg', 'tiger_051_resized.jpg', 'tiger_192_resized.jpg', 'tiger_158_resized.jpg', 'tiger_263_resized.jpg', 'tiger_385_resized.jpg', 'tiger_400_resized.jpg', 'tiger_259_resized.jpg', 'tiger_292_resized.jpg', 'tiger_043_resized.jpg', 'tiger_268_resized.jpg', 'tiger_111_resized.jpg', 'tiger_112_resized.jpg', 'tiger_157_resized.jpg', 'tiger_380_resized.jpg', 'tiger_214_resized.jpg', 'tiger_139_resized.jpg', 'tiger_170_resized.jpg', 'tiger_126_resized.jpg', 'tiger_166_resized.jpg', 'tiger_088_resized.jpg', 'tiger_060_resized.jpg', 'tiger_209_resized.jpg', 'tiger_780_resized.jpg', 'tiger_219_resized.jpg', 'tiger_236_resized.jpg', 'tiger_425_resized.jpg', 'tiger_362_resized.jpg', 'tiger_279_resized.jpg', 'tiger_050_resized.jpg', 'tiger_379_resized.jpg', 'tiger_147_resized.jpg', 'tiger_178_resized.jpg', 'tiger_122_resized.jpg', 'tiger_516_resized.jpg', 'tiger_155_resized.jpg', 'tiger_148_resized.jpg', 'tiger_193_resized.jpg', 'tiger_337_resized.jpg', 'tiger_256_resized.jpg', 'tiger_328_resized.jpg', 'tiger_299_resized.jpg', 'tiger_407_resized.jpg', 'tiger_203_resized.jpg', 'tiger_254_resized.jpg', 'tiger_123_resized.jpg', 'tiger_358_resized.jpg', 'tiger_042_resized.jpg', 'tiger_237_resized.jpg', 'tiger_072_resized.jpg', 'tiger_736_resized.jpg', 'tiger_278_resized.jpg', 'tiger_229_resized.jpg', 'tiger_714_resized.jpg', 'tiger_167_resized.jpg', 'tiger_102_resized.jpg', 'tiger_035_resized.jpg', 'tiger_405_resized.jpg', 'tiger_044_resized.jpg', 'tiger_037_resized.jpg', 'tiger_305_resized.jpg', 'tiger_075_resized.jpg', 'tiger_226_resized.jpg', 'tiger_890_resized.jpg', 'tiger_360_resized.jpg', 'tiger_220_resized.jpg', 'tiger_275_resized.jpg', 'tiger_056_resized.jpg', 'tiger_017_resized.jpg', 'tiger_343_resized.jpg', 'tiger_187_resized.jpg', 'tiger_132_resized.jpg', 'tiger_411_resized.jpg', 'tiger_367_resized.jpg', 'tiger_364_resized.jpg', 'tiger_096_resized.jpg', 'tiger_246_resized.jpg', 'tiger_381_resized.jpg', 'tiger_327_resized.jpg', 'tiger_626_resized.jpg', 'tiger_312_resized.jpg', 'tiger_375_resized.jpg', 'tiger_194_resized.jpg', 'tiger_382_resized.jpg', 'tiger_338_resized.jpg', 'tiger_345_resized.jpg', 'tiger_173_resized.jpg', 'tiger_269_resized.jpg', 'tiger_549_resized.jpg', 'tiger_152_resized.jpg', 'tiger_377_resized.jpg', 'tiger_144_resized.jpg', 'tiger_047_resized.jpg', 'tiger_241_resized.jpg', 'tiger_208_resized.jpg', 'tiger_255_resized.jpg', 'tiger_184_resized.jpg', 'tiger_164_resized.jpg', 'tiger_315_resized.jpg', 'tiger_310_resized.jpg', 'tiger_392_resized.jpg', 'tiger_182_resized.jpg', 'tiger_335_resized.jpg', 'tiger_348_resized.jpg', 'tiger_302_resized.jpg', 'tiger_494_resized.jpg', 'tiger_015_resized.jpg', 'tiger_163_resized.jpg', 'tiger_033_resized.jpg', 'tiger_110_resized.jpg', 'tiger_245_resized.jpg', 'tiger_228_resized.jpg', 'tiger_251_resized.jpg', 'tiger_064_resized.jpg', 'tiger_280_resized.jpg', 'tiger_083_resized.jpg', 'tiger_248_resized.jpg', 'tiger_369_resized.jpg', 'tiger_282_resized.jpg', 'tiger_223_resized.jpg', 'tiger_107_resized.jpg', 'tiger_450_resized.jpg', 'tiger_101_resized.jpg', 'tiger_415_resized.jpg', 'tiger_293_resized.jpg', 'tiger_420_resized.jpg', 'tiger_206_resized.jpg', 'tiger_416_resized.jpg', 'tiger_366_resized.jpg', 'tiger_120_resized.jpg', 'tiger_330_resized.jpg', 'tiger_212_resized.jpg', 'tiger_326_resized.jpg', 'tiger_159_resized.jpg', 'tiger_116_resized.jpg', 'tiger_398_resized.jpg', 'tiger_417_resized.jpg', 'tiger_179_resized.jpg', 'tiger_059_resized.jpg', 'tiger_244_resized.jpg', 'tiger_040_resized.jpg', 'tiger_225_resized.jpg', 'tiger_879_resized.jpg', 'tiger_197_resized.jpg', 'tiger_527_resized.jpg', 'tiger_297_resized.jpg', 'tiger_009_resized.jpg', 'tiger_081_resized.jpg', 'tiger_006_resized.jpg', 'tiger_384_resized.jpg', 'tiger_404_resized.jpg', 'tiger_355_resized.jpg', 'tiger_054_resized.jpg', 'tiger_352_resized.jpg', 'tiger_260_resized.jpg', 'tiger_127_resized.jpg', 'tiger_143_resized.jpg', 'tiger_136_resized.jpg', 'tiger_681_resized.jpg', 'tiger_175_resized.jpg', 'tiger_270_resized.jpg', 'tiger_160_resized.jpg', 'tiger_084_resized.jpg', 'tiger_074_resized.jpg', 'tiger_089_resized.jpg', 'tiger_439_resized.jpg', 'tiger_156_resized.jpg', 'tiger_198_resized.jpg', 'tiger_213_resized.jpg', 'tiger_353_resized.jpg', 'tiger_314_resized.jpg', 'tiger_262_resized.jpg', 'tiger_238_resized.jpg', 'tiger_092_resized.jpg', 'tiger_149_resized.jpg', 'tiger_288_resized.jpg', 'tiger_041_resized.jpg', 'tiger_207_resized.jpg', 'tiger_659_resized.jpg', 'tiger_020_resized.jpg', 'tiger_119_resized.jpg', 'tiger_243_resized.jpg', 'tiger_024_resized.jpg', 'tiger_276_resized.jpg', 'tiger_306_resized.jpg', 'tiger_344_resized.jpg', 'tiger_135_resized.jpg', 'tiger_324_resized.jpg', 'tiger_222_resized.jpg', 'tiger_372_resized.jpg', 'tiger_390_resized.jpg', 'tiger_402_resized.jpg', 'tiger_317_resized.jpg', 'tiger_137_resized.jpg', 'tiger_265_resized.jpg', 'tiger_003_resized.jpg', 'tiger_387_resized.jpg', 'tiger_174_resized.jpg', 'tiger_079_resized.jpg', 'tiger_233_resized.jpg', 'tiger_410_resized.jpg', 'tiger_034_resized.jpg', 'tiger_857_resized.jpg', 'tiger_347_resized.jpg', 'tiger_304_resized.jpg', 'tiger_368_resized.jpg', 'tiger_418_resized.jpg', 'tiger_065_resized.jpg', 'tiger_396_resized.jpg', 'tiger_349_resized.jpg', 'tiger_424_resized.jpg', 'tiger_395_resized.jpg', 'tiger_090_resized.jpg', 'tiger_078_resized.jpg', 'tiger_145_resized.jpg', 'tiger_224_resized.jpg', 'tiger_272_resized.jpg', 'tiger_100_resized.jpg', 'tiger_399_resized.jpg', 'tiger_138_resized.jpg', 'tiger_129_resized.jpg', 'tiger_045_resized.jpg', 'tiger_113_resized.jpg', 'tiger_769_resized.jpg', 'tiger_023_resized.jpg', 'tiger_593_resized.jpg', 'tiger_295_resized.jpg', 'tiger_389_resized.jpg', 'tiger_068_resized.jpg', 'tiger_019_resized.jpg', 'tiger_067_resized.jpg', 'tiger_307_resized.jpg', 'tiger_162_resized.jpg', 'tiger_191_resized.jpg', 'tiger_146_resized.jpg', 'tiger_010_resized.jpg', 'tiger_161_resized.jpg', 'tiger_211_resized.jpg', 'tiger_066_resized.jpg', 'tiger_266_resized.jpg', 'tiger_258_resized.jpg', 'tiger_011_resized.jpg', 'tiger_038_resized.jpg', 'tiger_285_resized.jpg', 'tiger_361_resized.jpg', 'tiger_637_resized.jpg', 'tiger_670_resized.jpg', 'tiger_342_resized.jpg', 'tiger_114_resized.jpg', 'tiger_115_resized.jpg', 'tiger_356_resized.jpg', 'tiger_290_resized.jpg', 'tiger_000_resized.jpg', 'tiger_253_resized.jpg', 'tiger_846_resized.jpg', 'tiger_824_resized.jpg', 'tiger_210_resized.jpg', 'tiger_130_resized.jpg', 'tiger_252_resized.jpg', 'tiger_021_resized.jpg', 'tiger_397_resized.jpg', 'tiger_027_resized.jpg', 'tiger_150_resized.jpg', 'tiger_340_resized.jpg', 'tiger_022_resized.jpg', 'tiger_329_resized.jpg', 'tiger_055_resized.jpg', 'tiger_140_resized.jpg', 'tiger_189_resized.jpg', 'tiger_351_resized.jpg', 'tiger_104_resized.jpg', 'tiger_309_resized.jpg', 'tiger_082_resized.jpg', 'tiger_121_resized.jpg', 'tiger_036_resized.jpg', 'tiger_271_resized.jpg', 'tiger_813_resized.jpg', 'tiger_057_resized.jpg', 'tiger_791_resized.jpg', 'tiger_331_resized.jpg', 'tiger_758_resized.jpg', 'tiger_133_resized.jpg', 'tiger_070_resized.jpg', 'tiger_125_resized.jpg', 'tiger_142_resized.jpg', 'tiger_181_resized.jpg', 'tiger_423_resized.jpg', 'tiger_346_resized.jpg', 'tiger_200_resized.jpg', 'tiger_018_resized.jpg', 'tiger_013_resized.jpg', 'tiger_604_resized.jpg', 'tiger_031_resized.jpg', 'tiger_109_resized.jpg', 'tiger_868_resized.jpg', 'tiger_428_resized.jpg', 'tiger_376_resized.jpg', 'tiger_408_resized.jpg', 'tiger_413_resized.jpg', 'tiger_261_resized.jpg', 'tiger_093_resized.jpg', 'tiger_151_resized.jpg', 'tiger_354_resized.jpg', 'tiger_249_resized.jpg', 'tiger_032_resized.jpg', 'tiger_461_resized.jpg', 'tiger_505_resized.jpg', 'tiger_250_resized.jpg', 'tiger_336_resized.jpg', 'tiger_401_resized.jpg', 'tiger_134_resized.jpg', 'tiger_294_resized.jpg', 'tiger_063_resized.jpg', 'tiger_321_resized.jpg', 'tiger_235_resized.jpg', 'tiger_322_resized.jpg', 'tiger_287_resized.jpg', 'tiger_374_resized.jpg', 'tiger_105_resized.jpg', 'tiger_234_resized.jpg', 'tiger_247_resized.jpg', 'tiger_316_resized.jpg', 'tiger_099_resized.jpg', 'tiger_283_resized.jpg', 'tiger_171_resized.jpg', 'tiger_177_resized.jpg', 'tiger_472_resized.jpg', 'tiger_062_resized.jpg', 'tiger_320_resized.jpg', 'tiger_188_resized.jpg', 'tiger_016_resized.jpg', 'tiger_001_resized.jpg', 'tiger_202_resized.jpg', 'tiger_199_resized.jpg', 'tiger_333_resized.jpg', 'tiger_365_resized.jpg', 'tiger_230_resized.jpg', 'tiger_098_resized.jpg', 'tiger_029_resized.jpg', 'tiger_363_resized.jpg', 'tiger_289_resized.jpg', 'tiger_186_resized.jpg']\n",
            "Cheetah Images: ['cheetah_135_resized.jpg', 'cheetah_106_resized.jpg', 'cheetah_182_resized.jpg', 'cheetah_208_resized.jpg', 'cheetah_229_resized.jpg', 'cheetah_341_resized.jpg', 'cheetah_091_resized.jpg', 'cheetah_397_resized.jpg', 'cheetah_403_resized.jpg', 'cheetah_276_resized.jpg', 'cheetah_225_resized.jpg', 'cheetah_330_resized.jpg', 'cheetah_637_resized.jpg', 'cheetah_270_resized.jpg', 'cheetah_197_resized.jpg', 'cheetah_005_resized.jpg', 'cheetah_004_resized.jpg', 'cheetah_317_resized.jpg', 'cheetah_180_resized.jpg', 'cheetah_438_resized.jpg', 'cheetah_032_resized.jpg', 'cheetah_217_resized.jpg', 'cheetah_382_resized.jpg', 'cheetah_388_resized.jpg', 'cheetah_313_resized.jpg', 'cheetah_238_resized.jpg', 'cheetah_013_resized.jpg', 'cheetah_064_resized.jpg', 'cheetah_325_resized.jpg', 'cheetah_505_resized.jpg', 'cheetah_093_resized.jpg', 'cheetah_056_resized.jpg', 'cheetah_401_resized.jpg', 'cheetah_201_resized.jpg', 'cheetah_299_resized.jpg', 'cheetah_066_resized.jpg', 'cheetah_051_resized.jpg', 'cheetah_366_resized.jpg', 'cheetah_429_resized.jpg', 'cheetah_391_resized.jpg', 'cheetah_440_resized.jpg', 'cheetah_012_resized.jpg', 'cheetah_181_resized.jpg', 'cheetah_214_resized.jpg', 'cheetah_010_resized.jpg', 'cheetah_089_resized.jpg', 'cheetah_296_resized.jpg', 'cheetah_070_resized.jpg', 'cheetah_282_resized.jpg', 'cheetah_361_resized.jpg', 'cheetah_383_resized.jpg', 'cheetah_371_resized.jpg', 'cheetah_247_resized.jpg', 'cheetah_231_resized.jpg', 'cheetah_434_resized.jpg', 'cheetah_050_resized.jpg', 'cheetah_006_resized.jpg', 'cheetah_306_resized.jpg', 'cheetah_277_resized.jpg', 'cheetah_077_resized.jpg', 'cheetah_333_resized.jpg', 'cheetah_240_resized.jpg', 'cheetah_304_resized.jpg', 'cheetah_067_resized.jpg', 'cheetah_087_resized.jpg', 'cheetah_021_resized.jpg', 'cheetah_239_resized.jpg', 'cheetah_216_resized.jpg', 'cheetah_119_resized.jpg', 'cheetah_058_resized.jpg', 'cheetah_394_resized.jpg', 'cheetah_337_resized.jpg', 'cheetah_323_resized.jpg', 'cheetah_069_resized.jpg', 'cheetah_269_resized.jpg', 'cheetah_358_resized.jpg', 'cheetah_150_resized.jpg', 'cheetah_615_resized.jpg', 'cheetah_161_resized.jpg', 'cheetah_426_resized.jpg', 'cheetah_349_resized.jpg', 'cheetah_244_resized.jpg', 'cheetah_016_resized.jpg', 'cheetah_062_resized.jpg', 'cheetah_370_resized.jpg', 'cheetah_245_resized.jpg', 'cheetah_187_resized.jpg', 'cheetah_340_resized.jpg', 'cheetah_265_resized.jpg', 'cheetah_593_resized.jpg', 'cheetah_065_resized.jpg', 'cheetah_374_resized.jpg', 'cheetah_307_resized.jpg', 'cheetah_042_resized.jpg', 'cheetah_044_resized.jpg', 'cheetah_251_resized.jpg', 'cheetah_200_resized.jpg', 'cheetah_101_resized.jpg', 'cheetah_263_resized.jpg', 'cheetah_408_resized.jpg', 'cheetah_346_resized.jpg', 'cheetah_038_resized.jpg', 'cheetah_396_resized.jpg', 'cheetah_199_resized.jpg', 'cheetah_446_resized.jpg', 'cheetah_414_resized.jpg', 'cheetah_384_resized.jpg', 'cheetah_090_resized.jpg', 'cheetah_221_resized.jpg', 'cheetah_424_resized.jpg', 'cheetah_461_resized.jpg', 'cheetah_378_resized.jpg', 'cheetah_049_resized.jpg', 'cheetah_030_resized.jpg', 'cheetah_223_resized.jpg', 'cheetah_648_resized.jpg', 'cheetah_292_resized.jpg', 'cheetah_033_resized.jpg', 'cheetah_318_resized.jpg', 'cheetah_079_resized.jpg', 'cheetah_356_resized.jpg', 'cheetah_273_resized.jpg', 'cheetah_149_resized.jpg', 'cheetah_494_resized.jpg', 'cheetah_308_resized.jpg', 'cheetah_164_resized.jpg', 'cheetah_227_resized.jpg', 'cheetah_448_resized.jpg', 'cheetah_516_resized.jpg', 'cheetah_266_resized.jpg', 'cheetah_432_resized.jpg', 'cheetah_017_resized.jpg', 'cheetah_061_resized.jpg', 'cheetah_381_resized.jpg', 'cheetah_368_resized.jpg', 'cheetah_339_resized.jpg', 'cheetah_190_resized.jpg', 'cheetah_430_resized.jpg', 'cheetah_014_resized.jpg', 'cheetah_316_resized.jpg', 'cheetah_350_resized.jpg', 'cheetah_418_resized.jpg', 'cheetah_086_resized.jpg', 'cheetah_571_resized.jpg', 'cheetah_022_resized.jpg', 'cheetah_052_resized.jpg', 'cheetah_387_resized.jpg', 'cheetah_354_resized.jpg', 'cheetah_213_resized.jpg', 'cheetah_195_resized.jpg', 'cheetah_114_resized.jpg', 'cheetah_288_resized.jpg', 'cheetah_406_resized.jpg', 'cheetah_271_resized.jpg', 'cheetah_096_resized.jpg', 'cheetah_320_resized.jpg', 'cheetah_436_resized.jpg', 'cheetah_399_resized.jpg', 'cheetah_235_resized.jpg', 'cheetah_289_resized.jpg', 'cheetah_117_resized.jpg', 'cheetah_281_resized.jpg', 'cheetah_222_resized.jpg', 'cheetah_118_resized.jpg', 'cheetah_171_resized.jpg', 'cheetah_008_resized.jpg', 'cheetah_444_resized.jpg', 'cheetah_362_resized.jpg', 'cheetah_351_resized.jpg', 'cheetah_034_resized.jpg', 'cheetah_483_resized.jpg', 'cheetah_248_resized.jpg', 'cheetah_028_resized.jpg', '.ipynb_checkpoints', 'cheetah_097_resized.jpg', 'cheetah_177_resized.jpg', 'cheetah_428_resized.jpg', 'cheetah_136_resized.jpg', 'cheetah_054_resized.jpg', 'cheetah_147_resized.jpg', 'cheetah_261_resized.jpg', 'cheetah_120_resized.jpg', 'cheetah_300_resized.jpg', 'cheetah_189_resized.jpg', 'cheetah_020_resized.jpg', 'cheetah_242_resized.jpg', 'cheetah_085_resized.jpg', 'cheetah_334_resized.jpg', 'cheetah_256_resized.jpg', 'cheetah_036_resized.jpg', 'cheetah_148_resized.jpg', 'cheetah_447_resized.jpg', 'cheetah_153_resized.jpg', 'cheetah_204_resized.jpg', 'cheetah_139_resized.jpg', 'cheetah_125_resized.jpg', 'cheetah_088_resized.jpg', 'cheetah_152_resized.jpg', 'cheetah_140_resized.jpg', 'cheetah_342_resized.jpg', 'cheetah_009_resized.jpg', 'cheetah_048_resized.jpg', 'cheetah_156_resized.jpg', 'cheetah_110_resized.jpg', 'cheetah_445_resized.jpg', 'cheetah_236_resized.jpg', 'cheetah_184_resized.jpg', 'cheetah_113_resized.jpg', 'cheetah_105_resized.jpg', 'cheetah_007_resized.jpg', 'cheetah_327_resized.jpg', 'cheetah_332_resized.jpg', 'cheetah_329_resized.jpg', 'cheetah_206_resized.jpg', 'cheetah_417_resized.jpg', 'cheetah_395_resized.jpg', 'cheetah_207_resized.jpg', 'cheetah_134_resized.jpg', 'cheetah_280_resized.jpg', 'cheetah_441_resized.jpg', 'cheetah_293_resized.jpg', 'cheetah_129_resized.jpg', 'cheetah_234_resized.jpg', 'cheetah_257_resized.jpg', 'cheetah_024_resized.jpg', 'cheetah_163_resized.jpg', 'cheetah_335_resized.jpg', 'cheetah_025_resized.jpg', 'cheetah_162_resized.jpg', 'cheetah_108_resized.jpg', 'cheetah_286_resized.jpg', 'cheetah_094_resized.jpg', 'cheetah_283_resized.jpg', 'cheetah_450_resized.jpg', 'cheetah_376_resized.jpg', 'cheetah_172_resized.jpg', 'cheetah_138_resized.jpg', 'cheetah_284_resized.jpg', 'cheetah_287_resized.jpg', 'cheetah_074_resized.jpg', 'cheetah_122_resized.jpg', 'cheetah_604_resized.jpg', 'cheetah_314_resized.jpg', 'cheetah_302_resized.jpg', 'cheetah_233_resized.jpg', 'cheetah_380_resized.jpg', 'cheetah_435_resized.jpg', 'cheetah_443_resized.jpg', 'cheetah_159_resized.jpg', 'cheetah_255_resized.jpg', 'cheetah_003_resized.jpg', 'cheetah_001_resized.jpg', 'cheetah_095_resized.jpg', 'cheetah_143_resized.jpg', 'cheetah_045_resized.jpg', 'cheetah_158_resized.jpg', 'cheetah_352_resized.jpg', 'cheetah_071_resized.jpg', 'cheetah_294_resized.jpg', 'cheetah_015_resized.jpg', 'cheetah_083_resized.jpg', 'cheetah_328_resized.jpg', 'cheetah_365_resized.jpg', 'cheetah_298_resized.jpg', 'cheetah_026_resized.jpg', 'cheetah_081_resized.jpg', 'cheetah_364_resized.jpg', 'cheetah_331_resized.jpg', 'cheetah_053_resized.jpg', 'cheetah_151_resized.jpg', 'cheetah_433_resized.jpg', 'cheetah_262_resized.jpg', 'cheetah_194_resized.jpg', 'cheetah_210_resized.jpg', 'cheetah_437_resized.jpg', 'cheetah_116_resized.jpg', 'cheetah_357_resized.jpg', 'cheetah_315_resized.jpg', 'cheetah_369_resized.jpg', 'cheetah_420_resized.jpg', 'cheetah_188_resized.jpg', 'cheetah_192_resized.jpg', 'cheetah_173_resized.jpg', 'cheetah_154_resized.jpg', 'cheetah_043_resized.jpg', 'cheetah_321_resized.jpg', 'cheetah_196_resized.jpg', 'cheetah_057_resized.jpg', 'cheetah_527_resized.jpg', 'cheetah_267_resized.jpg', 'cheetah_205_resized.jpg', 'cheetah_128_resized.jpg', 'cheetah_104_resized.jpg', 'cheetah_303_resized.jpg', 'cheetah_309_resized.jpg', 'cheetah_115_resized.jpg', 'cheetah_389_resized.jpg', 'cheetah_285_resized.jpg', 'cheetah_377_resized.jpg', 'cheetah_338_resized.jpg', 'cheetah_209_resized.jpg', 'cheetah_041_resized.jpg', 'cheetah_241_resized.jpg', 'cheetah_046_resized.jpg', 'cheetah_075_resized.jpg', 'cheetah_168_resized.jpg', 'cheetah_059_resized.jpg', 'cheetah_415_resized.jpg', 'cheetah_278_resized.jpg', 'cheetah_254_resized.jpg', 'cheetah_175_resized.jpg', 'cheetah_170_resized.jpg', 'cheetah_191_resized.jpg', 'cheetah_390_resized.jpg', 'cheetah_353_resized.jpg', 'cheetah_272_resized.jpg', 'cheetah_343_resized.jpg', 'cheetah_413_resized.jpg', 'cheetah_243_resized.jpg', 'cheetah_326_resized.jpg', 'cheetah_385_resized.jpg', 'cheetah_398_resized.jpg', 'cheetah_336_resized.jpg', 'cheetah_040_resized.jpg', 'cheetah_160_resized.jpg', 'cheetah_224_resized.jpg', 'cheetah_427_resized.jpg', 'cheetah_372_resized.jpg', 'cheetah_019_resized.jpg', 'cheetah_137_resized.jpg', 'cheetah_169_resized.jpg', 'cheetah_060_resized.jpg', 'cheetah_080_resized.jpg', 'cheetah_626_resized.jpg', 'cheetah_249_resized.jpg', 'cheetah_670_resized.jpg', 'cheetah_311_resized.jpg', 'cheetah_144_resized.jpg', 'cheetah_355_resized.jpg', 'cheetah_179_resized.jpg', 'cheetah_215_resized.jpg', 'cheetah_279_resized.jpg', 'cheetah_409_resized.jpg', 'cheetah_126_resized.jpg', 'cheetah_549_resized.jpg', 'cheetah_348_resized.jpg', 'cheetah_198_resized.jpg', 'cheetah_166_resized.jpg', 'cheetah_449_resized.jpg', 'cheetah_202_resized.jpg', 'cheetah_145_resized.jpg', 'cheetah_076_resized.jpg', 'cheetah_165_resized.jpg', 'cheetah_073_resized.jpg', 'cheetah_037_resized.jpg', 'cheetah_422_resized.jpg', 'cheetah_107_resized.jpg', 'cheetah_268_resized.jpg', 'cheetah_130_resized.jpg', 'cheetah_274_resized.jpg', 'cheetah_035_resized.jpg', 'cheetah_031_resized.jpg', 'cheetah_141_resized.jpg', 'cheetah_237_resized.jpg', 'cheetah_055_resized.jpg', 'cheetah_124_resized.jpg', 'cheetah_220_resized.jpg', 'cheetah_084_resized.jpg', 'cheetah_023_resized.jpg', 'cheetah_264_resized.jpg', 'cheetah_228_resized.jpg', 'cheetah_250_resized.jpg', 'cheetah_345_resized.jpg', 'cheetah_121_resized.jpg', 'cheetah_193_resized.jpg', 'cheetah_063_resized.jpg', 'cheetah_078_resized.jpg', 'cheetah_018_resized.jpg', 'cheetah_232_resized.jpg', 'cheetah_047_resized.jpg', 'cheetah_297_resized.jpg', 'cheetah_322_resized.jpg', 'cheetah_367_resized.jpg', 'cheetah_111_resized.jpg', 'cheetah_373_resized.jpg', 'cheetah_392_resized.jpg', 'cheetah_132_resized.jpg', 'cheetah_219_resized.jpg', 'cheetah_142_resized.jpg', 'cheetah_582_resized.jpg', 'cheetah_310_resized.jpg', 'cheetah_375_resized.jpg', 'cheetah_324_resized.jpg', 'cheetah_252_resized.jpg', 'cheetah_659_resized.jpg', 'cheetah_260_resized.jpg', 'cheetah_295_resized.jpg', 'cheetah_425_resized.jpg', 'cheetah_416_resized.jpg', 'cheetah_538_resized.jpg', 'cheetah_379_resized.jpg', 'cheetah_039_resized.jpg', 'cheetah_386_resized.jpg', 'cheetah_423_resized.jpg', 'cheetah_167_resized.jpg', 'cheetah_178_resized.jpg', 'cheetah_100_resized.jpg', 'cheetah_002_resized.jpg', 'cheetah_400_resized.jpg', 'cheetah_305_resized.jpg', 'cheetah_027_resized.jpg', 'cheetah_410_resized.jpg', 'cheetah_407_resized.jpg', 'cheetah_155_resized.jpg', 'cheetah_102_resized.jpg', 'cheetah_176_resized.jpg', 'cheetah_123_resized.jpg', 'cheetah_211_resized.jpg', 'cheetah_218_resized.jpg', 'cheetah_011_resized.jpg', 'cheetah_185_resized.jpg', 'cheetah_082_resized.jpg', 'cheetah_419_resized.jpg', 'cheetah_098_resized.jpg', 'cheetah_393_resized.jpg', 'cheetah_029_resized.jpg', 'cheetah_472_resized.jpg', 'cheetah_319_resized.jpg', 'cheetah_068_resized.jpg', 'cheetah_226_resized.jpg', 'cheetah_072_resized.jpg', 'cheetah_312_resized.jpg', 'cheetah_259_resized.jpg', 'cheetah_344_resized.jpg', 'cheetah_442_resized.jpg', 'cheetah_230_resized.jpg', 'cheetah_560_resized.jpg', 'cheetah_291_resized.jpg', 'cheetah_405_resized.jpg', 'cheetah_246_resized.jpg', 'cheetah_146_resized.jpg', 'cheetah_092_resized.jpg', 'cheetah_431_resized.jpg', 'cheetah_421_resized.jpg', 'cheetah_212_resized.jpg', 'cheetah_411_resized.jpg', 'cheetah_301_resized.jpg', 'cheetah_404_resized.jpg', 'cheetah_290_resized.jpg', 'cheetah_127_resized.jpg', 'cheetah_174_resized.jpg', 'cheetah_157_resized.jpg', 'cheetah_109_resized.jpg', 'cheetah_183_resized.jpg', 'cheetah_359_resized.jpg', 'cheetah_131_resized.jpg', 'cheetah_439_resized.jpg', 'cheetah_099_resized.jpg', 'cheetah_112_resized.jpg', 'cheetah_275_resized.jpg', 'cheetah_402_resized.jpg', 'cheetah_347_resized.jpg', 'cheetah_258_resized.jpg', 'cheetah_412_resized.jpg', 'cheetah_360_resized.jpg', 'cheetah_000_resized.jpg', 'cheetah_186_resized.jpg', 'cheetah_103_resized.jpg', 'cheetah_253_resized.jpg', 'cheetah_133_resized.jpg', 'cheetah_203_resized.jpg', 'cheetah_363_resized.jpg']\n"
          ]
        }
      ]
    },
    {
      "cell_type": "code",
      "source": [
        "# Function to preprocess images\n",
        "def load_images_from_folder(folder, label, img_size=(64, 64)):\n",
        "    images = []\n",
        "    labels = []\n",
        "    for filename in os.listdir(folder):\n",
        "        img_path = os.path.join(folder, filename)\n",
        "        if os.path.isfile(img_path):\n",
        "            img = cv2.imread(img_path)  # Read the image\n",
        "            img = cv2.resize(img, img_size)  # Resize to uniform size\n",
        "            img = cv2.cvtColor(img, cv2.COLOR_BGR2GRAY)  # Convert to grayscale\n",
        "            images.append(img.flatten())  # Flatten image to 1D array\n",
        "            labels.append(label)  # Assign the corresponding label\n",
        "    return images, labels"
      ],
      "metadata": {
        "id": "_QE9xT0m7Qcp"
      },
      "execution_count": 28,
      "outputs": []
    },
    {
      "cell_type": "code",
      "source": [
        "# Load tiger and cheetah images\n",
        "tiger_folder = '/content/tiger'\n",
        "cheetah_folder = '/content/cheetah'"
      ],
      "metadata": {
        "id": "KdzU3Fhw7Xj4"
      },
      "execution_count": 29,
      "outputs": []
    },
    {
      "cell_type": "code",
      "source": [
        "tiger_images, tiger_labels = load_images_from_folder(tiger_folder, label=0)\n",
        "cheetah_images, cheetah_labels = load_images_from_folder(cheetah_folder, label=1)\n"
      ],
      "metadata": {
        "id": "bA8453Nc7czw"
      },
      "execution_count": 30,
      "outputs": []
    },
    {
      "cell_type": "code",
      "source": [
        "# Combine datasets\n",
        "X = np.array(tiger_images + cheetah_images)  # Features (flattened image pixels)\n",
        "y = np.array(tiger_labels + cheetah_labels)  # Labels (0 for tiger, 1 for cheetah)\n",
        "\n",
        "print(\"Data shape:\", X.shape)\n",
        "print(\"Labels shape:\", y.shape)"
      ],
      "metadata": {
        "colab": {
          "base_uri": "https://localhost:8080/"
        },
        "id": "NS33adIbCxzL",
        "outputId": "ae37cc7b-5372-4adf-e1d5-1424d15f27fc"
      },
      "execution_count": 32,
      "outputs": [
        {
          "output_type": "stream",
          "name": "stdout",
          "text": [
            "Data shape: (942, 4096)\n",
            "Labels shape: (942,)\n"
          ]
        }
      ]
    },
    {
      "cell_type": "code",
      "source": [
        "# Split into training and testing sets\n",
        "X_train, X_test, y_train, y_test = train_test_split(X, y, test_size=0.2, random_state=42)\n"
      ],
      "metadata": {
        "id": "xfhzKEZQC07b"
      },
      "execution_count": 33,
      "outputs": []
    },
    {
      "cell_type": "code",
      "source": [
        "# Helper function to calculate Sensitivity and Specificity\n",
        "def calculate_sensitivity_specificity(cm):\n",
        "    tn, fp, fn, tp = cm.ravel()\n",
        "    sensitivity = tp / (tp + fn)\n",
        "    specificity = tn / (tn + fp)\n",
        "    return sensitivity, specificity"
      ],
      "metadata": {
        "id": "pvxVaXqeC3_a"
      },
      "execution_count": 34,
      "outputs": []
    },
    {
      "cell_type": "code",
      "source": [
        "# Helper function to plot ROC Curve\n",
        "def plot_roc_curve(y_test, y_scores, model_name):\n",
        "    fpr, tpr, _ = roc_curve(y_test, y_scores)\n",
        "    roc_auc = auc(fpr, tpr)\n",
        "    plt.figure()\n",
        "    plt.plot(fpr, tpr, color='blue', lw=2, label=f'ROC curve (area = {roc_auc:.2f})')\n",
        "    plt.plot([0, 1], [0, 1], color='gray', lw=2, linestyle='--')\n",
        "    plt.xlabel('False Positive Rate')\n",
        "    plt.ylabel('True Positive Rate')\n",
        "    plt.title(f'ROC Curve - {model_name}')\n",
        "    plt.legend(loc=\"lower right\")\n",
        "    plt.show()\n"
      ],
      "metadata": {
        "id": "uvQCHIuVC7R0"
      },
      "execution_count": 35,
      "outputs": []
    },
    {
      "cell_type": "code",
      "source": [
        "# Visualization of Confusion Matrix\n",
        "def plot_confusion_matrix(cm, model_name):\n",
        "    plt.figure(figsize=(6, 4))\n",
        "    sns.heatmap(cm, annot=True, fmt='d', cmap='Blues', xticklabels=['Tiger', 'Cheetah'], yticklabels=['Tiger', 'Cheetah'])\n",
        "    plt.title(f'Confusion Matrix - {model_name}')\n",
        "    plt.xlabel('Predicted Label')\n",
        "    plt.ylabel('True Label')\n",
        "    plt.show()"
      ],
      "metadata": {
        "id": "gSjRAefEC_Re"
      },
      "execution_count": 36,
      "outputs": []
    },
    {
      "cell_type": "code",
      "source": [
        "### Decision Tree Implementation\n",
        "dt_model = DecisionTreeClassifier(random_state=42)\n",
        "dt_model.fit(X_train, y_train)\n"
      ],
      "metadata": {
        "colab": {
          "base_uri": "https://localhost:8080/",
          "height": 80
        },
        "id": "iYCBE7EeDCg-",
        "outputId": "213a81af-95b8-4696-9c95-c317a623888a"
      },
      "execution_count": 37,
      "outputs": [
        {
          "output_type": "execute_result",
          "data": {
            "text/plain": [
              "DecisionTreeClassifier(random_state=42)"
            ],
            "text/html": [
              "<style>#sk-container-id-3 {\n",
              "  /* Definition of color scheme common for light and dark mode */\n",
              "  --sklearn-color-text: #000;\n",
              "  --sklearn-color-text-muted: #666;\n",
              "  --sklearn-color-line: gray;\n",
              "  /* Definition of color scheme for unfitted estimators */\n",
              "  --sklearn-color-unfitted-level-0: #fff5e6;\n",
              "  --sklearn-color-unfitted-level-1: #f6e4d2;\n",
              "  --sklearn-color-unfitted-level-2: #ffe0b3;\n",
              "  --sklearn-color-unfitted-level-3: chocolate;\n",
              "  /* Definition of color scheme for fitted estimators */\n",
              "  --sklearn-color-fitted-level-0: #f0f8ff;\n",
              "  --sklearn-color-fitted-level-1: #d4ebff;\n",
              "  --sklearn-color-fitted-level-2: #b3dbfd;\n",
              "  --sklearn-color-fitted-level-3: cornflowerblue;\n",
              "\n",
              "  /* Specific color for light theme */\n",
              "  --sklearn-color-text-on-default-background: var(--sg-text-color, var(--theme-code-foreground, var(--jp-content-font-color1, black)));\n",
              "  --sklearn-color-background: var(--sg-background-color, var(--theme-background, var(--jp-layout-color0, white)));\n",
              "  --sklearn-color-border-box: var(--sg-text-color, var(--theme-code-foreground, var(--jp-content-font-color1, black)));\n",
              "  --sklearn-color-icon: #696969;\n",
              "\n",
              "  @media (prefers-color-scheme: dark) {\n",
              "    /* Redefinition of color scheme for dark theme */\n",
              "    --sklearn-color-text-on-default-background: var(--sg-text-color, var(--theme-code-foreground, var(--jp-content-font-color1, white)));\n",
              "    --sklearn-color-background: var(--sg-background-color, var(--theme-background, var(--jp-layout-color0, #111)));\n",
              "    --sklearn-color-border-box: var(--sg-text-color, var(--theme-code-foreground, var(--jp-content-font-color1, white)));\n",
              "    --sklearn-color-icon: #878787;\n",
              "  }\n",
              "}\n",
              "\n",
              "#sk-container-id-3 {\n",
              "  color: var(--sklearn-color-text);\n",
              "}\n",
              "\n",
              "#sk-container-id-3 pre {\n",
              "  padding: 0;\n",
              "}\n",
              "\n",
              "#sk-container-id-3 input.sk-hidden--visually {\n",
              "  border: 0;\n",
              "  clip: rect(1px 1px 1px 1px);\n",
              "  clip: rect(1px, 1px, 1px, 1px);\n",
              "  height: 1px;\n",
              "  margin: -1px;\n",
              "  overflow: hidden;\n",
              "  padding: 0;\n",
              "  position: absolute;\n",
              "  width: 1px;\n",
              "}\n",
              "\n",
              "#sk-container-id-3 div.sk-dashed-wrapped {\n",
              "  border: 1px dashed var(--sklearn-color-line);\n",
              "  margin: 0 0.4em 0.5em 0.4em;\n",
              "  box-sizing: border-box;\n",
              "  padding-bottom: 0.4em;\n",
              "  background-color: var(--sklearn-color-background);\n",
              "}\n",
              "\n",
              "#sk-container-id-3 div.sk-container {\n",
              "  /* jupyter's `normalize.less` sets `[hidden] { display: none; }`\n",
              "     but bootstrap.min.css set `[hidden] { display: none !important; }`\n",
              "     so we also need the `!important` here to be able to override the\n",
              "     default hidden behavior on the sphinx rendered scikit-learn.org.\n",
              "     See: https://github.com/scikit-learn/scikit-learn/issues/21755 */\n",
              "  display: inline-block !important;\n",
              "  position: relative;\n",
              "}\n",
              "\n",
              "#sk-container-id-3 div.sk-text-repr-fallback {\n",
              "  display: none;\n",
              "}\n",
              "\n",
              "div.sk-parallel-item,\n",
              "div.sk-serial,\n",
              "div.sk-item {\n",
              "  /* draw centered vertical line to link estimators */\n",
              "  background-image: linear-gradient(var(--sklearn-color-text-on-default-background), var(--sklearn-color-text-on-default-background));\n",
              "  background-size: 2px 100%;\n",
              "  background-repeat: no-repeat;\n",
              "  background-position: center center;\n",
              "}\n",
              "\n",
              "/* Parallel-specific style estimator block */\n",
              "\n",
              "#sk-container-id-3 div.sk-parallel-item::after {\n",
              "  content: \"\";\n",
              "  width: 100%;\n",
              "  border-bottom: 2px solid var(--sklearn-color-text-on-default-background);\n",
              "  flex-grow: 1;\n",
              "}\n",
              "\n",
              "#sk-container-id-3 div.sk-parallel {\n",
              "  display: flex;\n",
              "  align-items: stretch;\n",
              "  justify-content: center;\n",
              "  background-color: var(--sklearn-color-background);\n",
              "  position: relative;\n",
              "}\n",
              "\n",
              "#sk-container-id-3 div.sk-parallel-item {\n",
              "  display: flex;\n",
              "  flex-direction: column;\n",
              "}\n",
              "\n",
              "#sk-container-id-3 div.sk-parallel-item:first-child::after {\n",
              "  align-self: flex-end;\n",
              "  width: 50%;\n",
              "}\n",
              "\n",
              "#sk-container-id-3 div.sk-parallel-item:last-child::after {\n",
              "  align-self: flex-start;\n",
              "  width: 50%;\n",
              "}\n",
              "\n",
              "#sk-container-id-3 div.sk-parallel-item:only-child::after {\n",
              "  width: 0;\n",
              "}\n",
              "\n",
              "/* Serial-specific style estimator block */\n",
              "\n",
              "#sk-container-id-3 div.sk-serial {\n",
              "  display: flex;\n",
              "  flex-direction: column;\n",
              "  align-items: center;\n",
              "  background-color: var(--sklearn-color-background);\n",
              "  padding-right: 1em;\n",
              "  padding-left: 1em;\n",
              "}\n",
              "\n",
              "\n",
              "/* Toggleable style: style used for estimator/Pipeline/ColumnTransformer box that is\n",
              "clickable and can be expanded/collapsed.\n",
              "- Pipeline and ColumnTransformer use this feature and define the default style\n",
              "- Estimators will overwrite some part of the style using the `sk-estimator` class\n",
              "*/\n",
              "\n",
              "/* Pipeline and ColumnTransformer style (default) */\n",
              "\n",
              "#sk-container-id-3 div.sk-toggleable {\n",
              "  /* Default theme specific background. It is overwritten whether we have a\n",
              "  specific estimator or a Pipeline/ColumnTransformer */\n",
              "  background-color: var(--sklearn-color-background);\n",
              "}\n",
              "\n",
              "/* Toggleable label */\n",
              "#sk-container-id-3 label.sk-toggleable__label {\n",
              "  cursor: pointer;\n",
              "  display: flex;\n",
              "  width: 100%;\n",
              "  margin-bottom: 0;\n",
              "  padding: 0.5em;\n",
              "  box-sizing: border-box;\n",
              "  text-align: center;\n",
              "  align-items: start;\n",
              "  justify-content: space-between;\n",
              "  gap: 0.5em;\n",
              "}\n",
              "\n",
              "#sk-container-id-3 label.sk-toggleable__label .caption {\n",
              "  font-size: 0.6rem;\n",
              "  font-weight: lighter;\n",
              "  color: var(--sklearn-color-text-muted);\n",
              "}\n",
              "\n",
              "#sk-container-id-3 label.sk-toggleable__label-arrow:before {\n",
              "  /* Arrow on the left of the label */\n",
              "  content: \"▸\";\n",
              "  float: left;\n",
              "  margin-right: 0.25em;\n",
              "  color: var(--sklearn-color-icon);\n",
              "}\n",
              "\n",
              "#sk-container-id-3 label.sk-toggleable__label-arrow:hover:before {\n",
              "  color: var(--sklearn-color-text);\n",
              "}\n",
              "\n",
              "/* Toggleable content - dropdown */\n",
              "\n",
              "#sk-container-id-3 div.sk-toggleable__content {\n",
              "  max-height: 0;\n",
              "  max-width: 0;\n",
              "  overflow: hidden;\n",
              "  text-align: left;\n",
              "  /* unfitted */\n",
              "  background-color: var(--sklearn-color-unfitted-level-0);\n",
              "}\n",
              "\n",
              "#sk-container-id-3 div.sk-toggleable__content.fitted {\n",
              "  /* fitted */\n",
              "  background-color: var(--sklearn-color-fitted-level-0);\n",
              "}\n",
              "\n",
              "#sk-container-id-3 div.sk-toggleable__content pre {\n",
              "  margin: 0.2em;\n",
              "  border-radius: 0.25em;\n",
              "  color: var(--sklearn-color-text);\n",
              "  /* unfitted */\n",
              "  background-color: var(--sklearn-color-unfitted-level-0);\n",
              "}\n",
              "\n",
              "#sk-container-id-3 div.sk-toggleable__content.fitted pre {\n",
              "  /* unfitted */\n",
              "  background-color: var(--sklearn-color-fitted-level-0);\n",
              "}\n",
              "\n",
              "#sk-container-id-3 input.sk-toggleable__control:checked~div.sk-toggleable__content {\n",
              "  /* Expand drop-down */\n",
              "  max-height: 200px;\n",
              "  max-width: 100%;\n",
              "  overflow: auto;\n",
              "}\n",
              "\n",
              "#sk-container-id-3 input.sk-toggleable__control:checked~label.sk-toggleable__label-arrow:before {\n",
              "  content: \"▾\";\n",
              "}\n",
              "\n",
              "/* Pipeline/ColumnTransformer-specific style */\n",
              "\n",
              "#sk-container-id-3 div.sk-label input.sk-toggleable__control:checked~label.sk-toggleable__label {\n",
              "  color: var(--sklearn-color-text);\n",
              "  background-color: var(--sklearn-color-unfitted-level-2);\n",
              "}\n",
              "\n",
              "#sk-container-id-3 div.sk-label.fitted input.sk-toggleable__control:checked~label.sk-toggleable__label {\n",
              "  background-color: var(--sklearn-color-fitted-level-2);\n",
              "}\n",
              "\n",
              "/* Estimator-specific style */\n",
              "\n",
              "/* Colorize estimator box */\n",
              "#sk-container-id-3 div.sk-estimator input.sk-toggleable__control:checked~label.sk-toggleable__label {\n",
              "  /* unfitted */\n",
              "  background-color: var(--sklearn-color-unfitted-level-2);\n",
              "}\n",
              "\n",
              "#sk-container-id-3 div.sk-estimator.fitted input.sk-toggleable__control:checked~label.sk-toggleable__label {\n",
              "  /* fitted */\n",
              "  background-color: var(--sklearn-color-fitted-level-2);\n",
              "}\n",
              "\n",
              "#sk-container-id-3 div.sk-label label.sk-toggleable__label,\n",
              "#sk-container-id-3 div.sk-label label {\n",
              "  /* The background is the default theme color */\n",
              "  color: var(--sklearn-color-text-on-default-background);\n",
              "}\n",
              "\n",
              "/* On hover, darken the color of the background */\n",
              "#sk-container-id-3 div.sk-label:hover label.sk-toggleable__label {\n",
              "  color: var(--sklearn-color-text);\n",
              "  background-color: var(--sklearn-color-unfitted-level-2);\n",
              "}\n",
              "\n",
              "/* Label box, darken color on hover, fitted */\n",
              "#sk-container-id-3 div.sk-label.fitted:hover label.sk-toggleable__label.fitted {\n",
              "  color: var(--sklearn-color-text);\n",
              "  background-color: var(--sklearn-color-fitted-level-2);\n",
              "}\n",
              "\n",
              "/* Estimator label */\n",
              "\n",
              "#sk-container-id-3 div.sk-label label {\n",
              "  font-family: monospace;\n",
              "  font-weight: bold;\n",
              "  display: inline-block;\n",
              "  line-height: 1.2em;\n",
              "}\n",
              "\n",
              "#sk-container-id-3 div.sk-label-container {\n",
              "  text-align: center;\n",
              "}\n",
              "\n",
              "/* Estimator-specific */\n",
              "#sk-container-id-3 div.sk-estimator {\n",
              "  font-family: monospace;\n",
              "  border: 1px dotted var(--sklearn-color-border-box);\n",
              "  border-radius: 0.25em;\n",
              "  box-sizing: border-box;\n",
              "  margin-bottom: 0.5em;\n",
              "  /* unfitted */\n",
              "  background-color: var(--sklearn-color-unfitted-level-0);\n",
              "}\n",
              "\n",
              "#sk-container-id-3 div.sk-estimator.fitted {\n",
              "  /* fitted */\n",
              "  background-color: var(--sklearn-color-fitted-level-0);\n",
              "}\n",
              "\n",
              "/* on hover */\n",
              "#sk-container-id-3 div.sk-estimator:hover {\n",
              "  /* unfitted */\n",
              "  background-color: var(--sklearn-color-unfitted-level-2);\n",
              "}\n",
              "\n",
              "#sk-container-id-3 div.sk-estimator.fitted:hover {\n",
              "  /* fitted */\n",
              "  background-color: var(--sklearn-color-fitted-level-2);\n",
              "}\n",
              "\n",
              "/* Specification for estimator info (e.g. \"i\" and \"?\") */\n",
              "\n",
              "/* Common style for \"i\" and \"?\" */\n",
              "\n",
              ".sk-estimator-doc-link,\n",
              "a:link.sk-estimator-doc-link,\n",
              "a:visited.sk-estimator-doc-link {\n",
              "  float: right;\n",
              "  font-size: smaller;\n",
              "  line-height: 1em;\n",
              "  font-family: monospace;\n",
              "  background-color: var(--sklearn-color-background);\n",
              "  border-radius: 1em;\n",
              "  height: 1em;\n",
              "  width: 1em;\n",
              "  text-decoration: none !important;\n",
              "  margin-left: 0.5em;\n",
              "  text-align: center;\n",
              "  /* unfitted */\n",
              "  border: var(--sklearn-color-unfitted-level-1) 1pt solid;\n",
              "  color: var(--sklearn-color-unfitted-level-1);\n",
              "}\n",
              "\n",
              ".sk-estimator-doc-link.fitted,\n",
              "a:link.sk-estimator-doc-link.fitted,\n",
              "a:visited.sk-estimator-doc-link.fitted {\n",
              "  /* fitted */\n",
              "  border: var(--sklearn-color-fitted-level-1) 1pt solid;\n",
              "  color: var(--sklearn-color-fitted-level-1);\n",
              "}\n",
              "\n",
              "/* On hover */\n",
              "div.sk-estimator:hover .sk-estimator-doc-link:hover,\n",
              ".sk-estimator-doc-link:hover,\n",
              "div.sk-label-container:hover .sk-estimator-doc-link:hover,\n",
              ".sk-estimator-doc-link:hover {\n",
              "  /* unfitted */\n",
              "  background-color: var(--sklearn-color-unfitted-level-3);\n",
              "  color: var(--sklearn-color-background);\n",
              "  text-decoration: none;\n",
              "}\n",
              "\n",
              "div.sk-estimator.fitted:hover .sk-estimator-doc-link.fitted:hover,\n",
              ".sk-estimator-doc-link.fitted:hover,\n",
              "div.sk-label-container:hover .sk-estimator-doc-link.fitted:hover,\n",
              ".sk-estimator-doc-link.fitted:hover {\n",
              "  /* fitted */\n",
              "  background-color: var(--sklearn-color-fitted-level-3);\n",
              "  color: var(--sklearn-color-background);\n",
              "  text-decoration: none;\n",
              "}\n",
              "\n",
              "/* Span, style for the box shown on hovering the info icon */\n",
              ".sk-estimator-doc-link span {\n",
              "  display: none;\n",
              "  z-index: 9999;\n",
              "  position: relative;\n",
              "  font-weight: normal;\n",
              "  right: .2ex;\n",
              "  padding: .5ex;\n",
              "  margin: .5ex;\n",
              "  width: min-content;\n",
              "  min-width: 20ex;\n",
              "  max-width: 50ex;\n",
              "  color: var(--sklearn-color-text);\n",
              "  box-shadow: 2pt 2pt 4pt #999;\n",
              "  /* unfitted */\n",
              "  background: var(--sklearn-color-unfitted-level-0);\n",
              "  border: .5pt solid var(--sklearn-color-unfitted-level-3);\n",
              "}\n",
              "\n",
              ".sk-estimator-doc-link.fitted span {\n",
              "  /* fitted */\n",
              "  background: var(--sklearn-color-fitted-level-0);\n",
              "  border: var(--sklearn-color-fitted-level-3);\n",
              "}\n",
              "\n",
              ".sk-estimator-doc-link:hover span {\n",
              "  display: block;\n",
              "}\n",
              "\n",
              "/* \"?\"-specific style due to the `<a>` HTML tag */\n",
              "\n",
              "#sk-container-id-3 a.estimator_doc_link {\n",
              "  float: right;\n",
              "  font-size: 1rem;\n",
              "  line-height: 1em;\n",
              "  font-family: monospace;\n",
              "  background-color: var(--sklearn-color-background);\n",
              "  border-radius: 1rem;\n",
              "  height: 1rem;\n",
              "  width: 1rem;\n",
              "  text-decoration: none;\n",
              "  /* unfitted */\n",
              "  color: var(--sklearn-color-unfitted-level-1);\n",
              "  border: var(--sklearn-color-unfitted-level-1) 1pt solid;\n",
              "}\n",
              "\n",
              "#sk-container-id-3 a.estimator_doc_link.fitted {\n",
              "  /* fitted */\n",
              "  border: var(--sklearn-color-fitted-level-1) 1pt solid;\n",
              "  color: var(--sklearn-color-fitted-level-1);\n",
              "}\n",
              "\n",
              "/* On hover */\n",
              "#sk-container-id-3 a.estimator_doc_link:hover {\n",
              "  /* unfitted */\n",
              "  background-color: var(--sklearn-color-unfitted-level-3);\n",
              "  color: var(--sklearn-color-background);\n",
              "  text-decoration: none;\n",
              "}\n",
              "\n",
              "#sk-container-id-3 a.estimator_doc_link.fitted:hover {\n",
              "  /* fitted */\n",
              "  background-color: var(--sklearn-color-fitted-level-3);\n",
              "}\n",
              "</style><div id=\"sk-container-id-3\" class=\"sk-top-container\"><div class=\"sk-text-repr-fallback\"><pre>DecisionTreeClassifier(random_state=42)</pre><b>In a Jupyter environment, please rerun this cell to show the HTML representation or trust the notebook. <br />On GitHub, the HTML representation is unable to render, please try loading this page with nbviewer.org.</b></div><div class=\"sk-container\" hidden><div class=\"sk-item\"><div class=\"sk-estimator fitted sk-toggleable\"><input class=\"sk-toggleable__control sk-hidden--visually\" id=\"sk-estimator-id-3\" type=\"checkbox\" checked><label for=\"sk-estimator-id-3\" class=\"sk-toggleable__label fitted sk-toggleable__label-arrow\"><div><div>DecisionTreeClassifier</div></div><div><a class=\"sk-estimator-doc-link fitted\" rel=\"noreferrer\" target=\"_blank\" href=\"https://scikit-learn.org/1.6/modules/generated/sklearn.tree.DecisionTreeClassifier.html\">?<span>Documentation for DecisionTreeClassifier</span></a><span class=\"sk-estimator-doc-link fitted\">i<span>Fitted</span></span></div></label><div class=\"sk-toggleable__content fitted\"><pre>DecisionTreeClassifier(random_state=42)</pre></div> </div></div></div></div>"
            ]
          },
          "metadata": {},
          "execution_count": 37
        }
      ]
    },
    {
      "cell_type": "code",
      "source": [
        "# Predictions and probabilities\n",
        "y_pred_dt = dt_model.predict(X_test)\n",
        "y_scores_dt = dt_model.predict_proba(X_test)[:, 1]  # Probabilities for the positive class\n"
      ],
      "metadata": {
        "id": "Nodpo4AZDFOn"
      },
      "execution_count": 38,
      "outputs": []
    },
    {
      "cell_type": "code",
      "source": [
        "# Confusion Matrix\n",
        "cm_dt = confusion_matrix(y_test, y_pred_dt)\n",
        "print(\"Decision Tree Confusion Matrix:\\n\", cm_dt)"
      ],
      "metadata": {
        "colab": {
          "base_uri": "https://localhost:8080/"
        },
        "id": "GWJJaJEgDIjV",
        "outputId": "1f21c1fb-b3ac-4d9e-b01b-a22bfe3b3f66"
      },
      "execution_count": 39,
      "outputs": [
        {
          "output_type": "stream",
          "name": "stdout",
          "text": [
            "Decision Tree Confusion Matrix:\n",
            " [[49 40]\n",
            " [44 56]]\n"
          ]
        }
      ]
    },
    {
      "cell_type": "code",
      "source": [
        "# Sensitivity and Specificity\n",
        "sensitivity_dt, specificity_dt = calculate_sensitivity_specificity(cm_dt)\n",
        "print(f\"Decision Tree Sensitivity: {sensitivity_dt:.2f}, Specificity: {specificity_dt:.2f}\")\n"
      ],
      "metadata": {
        "colab": {
          "base_uri": "https://localhost:8080/"
        },
        "id": "PMVG8ryVDLRC",
        "outputId": "f5d2a159-df59-4852-f690-3a2873585f94"
      },
      "execution_count": 40,
      "outputs": [
        {
          "output_type": "stream",
          "name": "stdout",
          "text": [
            "Decision Tree Sensitivity: 0.56, Specificity: 0.55\n"
          ]
        }
      ]
    },
    {
      "cell_type": "code",
      "source": [
        "# Classification Report\n",
        "print(\"Decision Tree Classification Report:\\n\", classification_report(y_test, y_pred_dt))\n"
      ],
      "metadata": {
        "colab": {
          "base_uri": "https://localhost:8080/"
        },
        "id": "ERmkr8WsDODn",
        "outputId": "71494e99-8787-455d-af21-ff9fd920815e"
      },
      "execution_count": 41,
      "outputs": [
        {
          "output_type": "stream",
          "name": "stdout",
          "text": [
            "Decision Tree Classification Report:\n",
            "               precision    recall  f1-score   support\n",
            "\n",
            "           0       0.53      0.55      0.54        89\n",
            "           1       0.58      0.56      0.57       100\n",
            "\n",
            "    accuracy                           0.56       189\n",
            "   macro avg       0.56      0.56      0.55       189\n",
            "weighted avg       0.56      0.56      0.56       189\n",
            "\n"
          ]
        }
      ]
    },
    {
      "cell_type": "code",
      "source": [
        "# Plot ROC Curve\n",
        "plot_roc_curve(y_test, y_scores_dt, \"Decision Tree\")\n"
      ],
      "metadata": {
        "colab": {
          "base_uri": "https://localhost:8080/",
          "height": 472
        },
        "id": "uth2_x4uDRsQ",
        "outputId": "eb634809-9f7e-4ceb-9db5-beee370122c4"
      },
      "execution_count": 42,
      "outputs": [
        {
          "output_type": "display_data",
          "data": {
            "text/plain": [
              "<Figure size 640x480 with 1 Axes>"
            ],
            "image/png": "[encoded data removed]"
          },
          "metadata": {}
        }
      ]
    },
    {
      "cell_type": "code",
      "source": [
        "# Plot confusion matrix\n",
        "plot_confusion_matrix(cm_dt, \"Decision Tree\")\n"
      ],
      "metadata": {
        "colab": {
          "base_uri": "https://localhost:8080/",
          "height": 410
        },
        "id": "-RwwI8LODVcR",
        "outputId": "3f06a4db-d4fa-4c29-c277-a25d91f9a860"
      },
      "execution_count": 43,
      "outputs": [
        {
          "output_type": "display_data",
          "data": {
            "text/plain": [
              "<Figure size 600x400 with 2 Axes>"
            ],
            "image/png": "[encoded data removed]"
          },
          "metadata": {}
        }
      ]
    },
    {
      "cell_type": "code",
      "source": [
        "### k-Nearest Neighbor Implementation\n",
        "knn_model = KNeighborsClassifier(n_neighbors=3)\n",
        "knn_model.fit(X_train, y_train)\n"
      ],
      "metadata": {
        "colab": {
          "base_uri": "https://localhost:8080/",
          "height": 80
        },
        "id": "gVaAaPbcGZ0b",
        "outputId": "931b814d-e6f2-4f2a-bdcb-7499919bfde3"
      },
      "execution_count": 44,
      "outputs": [
        {
          "output_type": "execute_result",
          "data": {
            "text/plain": [
              "KNeighborsClassifier(n_neighbors=3)"
            ],
            "text/html": [
              "<style>#sk-container-id-4 {\n",
              "  /* Definition of color scheme common for light and dark mode */\n",
              "  --sklearn-color-text: #000;\n",
              "  --sklearn-color-text-muted: #666;\n",
              "  --sklearn-color-line: gray;\n",
              "  /* Definition of color scheme for unfitted estimators */\n",
              "  --sklearn-color-unfitted-level-0: #fff5e6;\n",
              "  --sklearn-color-unfitted-level-1: #f6e4d2;\n",
              "  --sklearn-color-unfitted-level-2: #ffe0b3;\n",
              "  --sklearn-color-unfitted-level-3: chocolate;\n",
              "  /* Definition of color scheme for fitted estimators */\n",
              "  --sklearn-color-fitted-level-0: #f0f8ff;\n",
              "  --sklearn-color-fitted-level-1: #d4ebff;\n",
              "  --sklearn-color-fitted-level-2: #b3dbfd;\n",
              "  --sklearn-color-fitted-level-3: cornflowerblue;\n",
              "\n",
              "  /* Specific color for light theme */\n",
              "  --sklearn-color-text-on-default-background: var(--sg-text-color, var(--theme-code-foreground, var(--jp-content-font-color1, black)));\n",
              "  --sklearn-color-background: var(--sg-background-color, var(--theme-background, var(--jp-layout-color0, white)));\n",
              "  --sklearn-color-border-box: var(--sg-text-color, var(--theme-code-foreground, var(--jp-content-font-color1, black)));\n",
              "  --sklearn-color-icon: #696969;\n",
              "\n",
              "  @media (prefers-color-scheme: dark) {\n",
              "    /* Redefinition of color scheme for dark theme */\n",
              "    --sklearn-color-text-on-default-background: var(--sg-text-color, var(--theme-code-foreground, var(--jp-content-font-color1, white)));\n",
              "    --sklearn-color-background: var(--sg-background-color, var(--theme-background, var(--jp-layout-color0, #111)));\n",
              "    --sklearn-color-border-box: var(--sg-text-color, var(--theme-code-foreground, var(--jp-content-font-color1, white)));\n",
              "    --sklearn-color-icon: #878787;\n",
              "  }\n",
              "}\n",
              "\n",
              "#sk-container-id-4 {\n",
              "  color: var(--sklearn-color-text);\n",
              "}\n",
              "\n",
              "#sk-container-id-4 pre {\n",
              "  padding: 0;\n",
              "}\n",
              "\n",
              "#sk-container-id-4 input.sk-hidden--visually {\n",
              "  border: 0;\n",
              "  clip: rect(1px 1px 1px 1px);\n",
              "  clip: rect(1px, 1px, 1px, 1px);\n",
              "  height: 1px;\n",
              "  margin: -1px;\n",
              "  overflow: hidden;\n",
              "  padding: 0;\n",
              "  position: absolute;\n",
              "  width: 1px;\n",
              "}\n",
              "\n",
              "#sk-container-id-4 div.sk-dashed-wrapped {\n",
              "  border: 1px dashed var(--sklearn-color-line);\n",
              "  margin: 0 0.4em 0.5em 0.4em;\n",
              "  box-sizing: border-box;\n",
              "  padding-bottom: 0.4em;\n",
              "  background-color: var(--sklearn-color-background);\n",
              "}\n",
              "\n",
              "#sk-container-id-4 div.sk-container {\n",
              "  /* jupyter's `normalize.less` sets `[hidden] { display: none; }`\n",
              "     but bootstrap.min.css set `[hidden] { display: none !important; }`\n",
              "     so we also need the `!important` here to be able to override the\n",
              "     default hidden behavior on the sphinx rendered scikit-learn.org.\n",
              "     See: https://github.com/scikit-learn/scikit-learn/issues/21755 */\n",
              "  display: inline-block !important;\n",
              "  position: relative;\n",
              "}\n",
              "\n",
              "#sk-container-id-4 div.sk-text-repr-fallback {\n",
              "  display: none;\n",
              "}\n",
              "\n",
              "div.sk-parallel-item,\n",
              "div.sk-serial,\n",
              "div.sk-item {\n",
              "  /* draw centered vertical line to link estimators */\n",
              "  background-image: linear-gradient(var(--sklearn-color-text-on-default-background), var(--sklearn-color-text-on-default-background));\n",
              "  background-size: 2px 100%;\n",
              "  background-repeat: no-repeat;\n",
              "  background-position: center center;\n",
              "}\n",
              "\n",
              "/* Parallel-specific style estimator block */\n",
              "\n",
              "#sk-container-id-4 div.sk-parallel-item::after {\n",
              "  content: \"\";\n",
              "  width: 100%;\n",
              "  border-bottom: 2px solid var(--sklearn-color-text-on-default-background);\n",
              "  flex-grow: 1;\n",
              "}\n",
              "\n",
              "#sk-container-id-4 div.sk-parallel {\n",
              "  display: flex;\n",
              "  align-items: stretch;\n",
              "  justify-content: center;\n",
              "  background-color: var(--sklearn-color-background);\n",
              "  position: relative;\n",
              "}\n",
              "\n",
              "#sk-container-id-4 div.sk-parallel-item {\n",
              "  display: flex;\n",
              "  flex-direction: column;\n",
              "}\n",
              "\n",
              "#sk-container-id-4 div.sk-parallel-item:first-child::after {\n",
              "  align-self: flex-end;\n",
              "  width: 50%;\n",
              "}\n",
              "\n",
              "#sk-container-id-4 div.sk-parallel-item:last-child::after {\n",
              "  align-self: flex-start;\n",
              "  width: 50%;\n",
              "}\n",
              "\n",
              "#sk-container-id-4 div.sk-parallel-item:only-child::after {\n",
              "  width: 0;\n",
              "}\n",
              "\n",
              "/* Serial-specific style estimator block */\n",
              "\n",
              "#sk-container-id-4 div.sk-serial {\n",
              "  display: flex;\n",
              "  flex-direction: column;\n",
              "  align-items: center;\n",
              "  background-color: var(--sklearn-color-background);\n",
              "  padding-right: 1em;\n",
              "  padding-left: 1em;\n",
              "}\n",
              "\n",
              "\n",
              "/* Toggleable style: style used for estimator/Pipeline/ColumnTransformer box that is\n",
              "clickable and can be expanded/collapsed.\n",
              "- Pipeline and ColumnTransformer use this feature and define the default style\n",
              "- Estimators will overwrite some part of the style using the `sk-estimator` class\n",
              "*/\n",
              "\n",
              "/* Pipeline and ColumnTransformer style (default) */\n",
              "\n",
              "#sk-container-id-4 div.sk-toggleable {\n",
              "  /* Default theme specific background. It is overwritten whether we have a\n",
              "  specific estimator or a Pipeline/ColumnTransformer */\n",
              "  background-color: var(--sklearn-color-background);\n",
              "}\n",
              "\n",
              "/* Toggleable label */\n",
              "#sk-container-id-4 label.sk-toggleable__label {\n",
              "  cursor: pointer;\n",
              "  display: flex;\n",
              "  width: 100%;\n",
              "  margin-bottom: 0;\n",
              "  padding: 0.5em;\n",
              "  box-sizing: border-box;\n",
              "  text-align: center;\n",
              "  align-items: start;\n",
              "  justify-content: space-between;\n",
              "  gap: 0.5em;\n",
              "}\n",
              "\n",
              "#sk-container-id-4 label.sk-toggleable__label .caption {\n",
              "  font-size: 0.6rem;\n",
              "  font-weight: lighter;\n",
              "  color: var(--sklearn-color-text-muted);\n",
              "}\n",
              "\n",
              "#sk-container-id-4 label.sk-toggleable__label-arrow:before {\n",
              "  /* Arrow on the left of the label */\n",
              "  content: \"▸\";\n",
              "  float: left;\n",
              "  margin-right: 0.25em;\n",
              "  color: var(--sklearn-color-icon);\n",
              "}\n",
              "\n",
              "#sk-container-id-4 label.sk-toggleable__label-arrow:hover:before {\n",
              "  color: var(--sklearn-color-text);\n",
              "}\n",
              "\n",
              "/* Toggleable content - dropdown */\n",
              "\n",
              "#sk-container-id-4 div.sk-toggleable__content {\n",
              "  max-height: 0;\n",
              "  max-width: 0;\n",
              "  overflow: hidden;\n",
              "  text-align: left;\n",
              "  /* unfitted */\n",
              "  background-color: var(--sklearn-color-unfitted-level-0);\n",
              "}\n",
              "\n",
              "#sk-container-id-4 div.sk-toggleable__content.fitted {\n",
              "  /* fitted */\n",
              "  background-color: var(--sklearn-color-fitted-level-0);\n",
              "}\n",
              "\n",
              "#sk-container-id-4 div.sk-toggleable__content pre {\n",
              "  margin: 0.2em;\n",
              "  border-radius: 0.25em;\n",
              "  color: var(--sklearn-color-text);\n",
              "  /* unfitted */\n",
              "  background-color: var(--sklearn-color-unfitted-level-0);\n",
              "}\n",
              "\n",
              "#sk-container-id-4 div.sk-toggleable__content.fitted pre {\n",
              "  /* unfitted */\n",
              "  background-color: var(--sklearn-color-fitted-level-0);\n",
              "}\n",
              "\n",
              "#sk-container-id-4 input.sk-toggleable__control:checked~div.sk-toggleable__content {\n",
              "  /* Expand drop-down */\n",
              "  max-height: 200px;\n",
              "  max-width: 100%;\n",
              "  overflow: auto;\n",
              "}\n",
              "\n",
              "#sk-container-id-4 input.sk-toggleable__control:checked~label.sk-toggleable__label-arrow:before {\n",
              "  content: \"▾\";\n",
              "}\n",
              "\n",
              "/* Pipeline/ColumnTransformer-specific style */\n",
              "\n",
              "#sk-container-id-4 div.sk-label input.sk-toggleable__control:checked~label.sk-toggleable__label {\n",
              "  color: var(--sklearn-color-text);\n",
              "  background-color: var(--sklearn-color-unfitted-level-2);\n",
              "}\n",
              "\n",
              "#sk-container-id-4 div.sk-label.fitted input.sk-toggleable__control:checked~label.sk-toggleable__label {\n",
              "  background-color: var(--sklearn-color-fitted-level-2);\n",
              "}\n",
              "\n",
              "/* Estimator-specific style */\n",
              "\n",
              "/* Colorize estimator box */\n",
              "#sk-container-id-4 div.sk-estimator input.sk-toggleable__control:checked~label.sk-toggleable__label {\n",
              "  /* unfitted */\n",
              "  background-color: var(--sklearn-color-unfitted-level-2);\n",
              "}\n",
              "\n",
              "#sk-container-id-4 div.sk-estimator.fitted input.sk-toggleable__control:checked~label.sk-toggleable__label {\n",
              "  /* fitted */\n",
              "  background-color: var(--sklearn-color-fitted-level-2);\n",
              "}\n",
              "\n",
              "#sk-container-id-4 div.sk-label label.sk-toggleable__label,\n",
              "#sk-container-id-4 div.sk-label label {\n",
              "  /* The background is the default theme color */\n",
              "  color: var(--sklearn-color-text-on-default-background);\n",
              "}\n",
              "\n",
              "/* On hover, darken the color of the background */\n",
              "#sk-container-id-4 div.sk-label:hover label.sk-toggleable__label {\n",
              "  color: var(--sklearn-color-text);\n",
              "  background-color: var(--sklearn-color-unfitted-level-2);\n",
              "}\n",
              "\n",
              "/* Label box, darken color on hover, fitted */\n",
              "#sk-container-id-4 div.sk-label.fitted:hover label.sk-toggleable__label.fitted {\n",
              "  color: var(--sklearn-color-text);\n",
              "  background-color: var(--sklearn-color-fitted-level-2);\n",
              "}\n",
              "\n",
              "/* Estimator label */\n",
              "\n",
              "#sk-container-id-4 div.sk-label label {\n",
              "  font-family: monospace;\n",
              "  font-weight: bold;\n",
              "  display: inline-block;\n",
              "  line-height: 1.2em;\n",
              "}\n",
              "\n",
              "#sk-container-id-4 div.sk-label-container {\n",
              "  text-align: center;\n",
              "}\n",
              "\n",
              "/* Estimator-specific */\n",
              "#sk-container-id-4 div.sk-estimator {\n",
              "  font-family: monospace;\n",
              "  border: 1px dotted var(--sklearn-color-border-box);\n",
              "  border-radius: 0.25em;\n",
              "  box-sizing: border-box;\n",
              "  margin-bottom: 0.5em;\n",
              "  /* unfitted */\n",
              "  background-color: var(--sklearn-color-unfitted-level-0);\n",
              "}\n",
              "\n",
              "#sk-container-id-4 div.sk-estimator.fitted {\n",
              "  /* fitted */\n",
              "  background-color: var(--sklearn-color-fitted-level-0);\n",
              "}\n",
              "\n",
              "/* on hover */\n",
              "#sk-container-id-4 div.sk-estimator:hover {\n",
              "  /* unfitted */\n",
              "  background-color: var(--sklearn-color-unfitted-level-2);\n",
              "}\n",
              "\n",
              "#sk-container-id-4 div.sk-estimator.fitted:hover {\n",
              "  /* fitted */\n",
              "  background-color: var(--sklearn-color-fitted-level-2);\n",
              "}\n",
              "\n",
              "/* Specification for estimator info (e.g. \"i\" and \"?\") */\n",
              "\n",
              "/* Common style for \"i\" and \"?\" */\n",
              "\n",
              ".sk-estimator-doc-link,\n",
              "a:link.sk-estimator-doc-link,\n",
              "a:visited.sk-estimator-doc-link {\n",
              "  float: right;\n",
              "  font-size: smaller;\n",
              "  line-height: 1em;\n",
              "  font-family: monospace;\n",
              "  background-color: var(--sklearn-color-background);\n",
              "  border-radius: 1em;\n",
              "  height: 1em;\n",
              "  width: 1em;\n",
              "  text-decoration: none !important;\n",
              "  margin-left: 0.5em;\n",
              "  text-align: center;\n",
              "  /* unfitted */\n",
              "  border: var(--sklearn-color-unfitted-level-1) 1pt solid;\n",
              "  color: var(--sklearn-color-unfitted-level-1);\n",
              "}\n",
              "\n",
              ".sk-estimator-doc-link.fitted,\n",
              "a:link.sk-estimator-doc-link.fitted,\n",
              "a:visited.sk-estimator-doc-link.fitted {\n",
              "  /* fitted */\n",
              "  border: var(--sklearn-color-fitted-level-1) 1pt solid;\n",
              "  color: var(--sklearn-color-fitted-level-1);\n",
              "}\n",
              "\n",
              "/* On hover */\n",
              "div.sk-estimator:hover .sk-estimator-doc-link:hover,\n",
              ".sk-estimator-doc-link:hover,\n",
              "div.sk-label-container:hover .sk-estimator-doc-link:hover,\n",
              ".sk-estimator-doc-link:hover {\n",
              "  /* unfitted */\n",
              "  background-color: var(--sklearn-color-unfitted-level-3);\n",
              "  color: var(--sklearn-color-background);\n",
              "  text-decoration: none;\n",
              "}\n",
              "\n",
              "div.sk-estimator.fitted:hover .sk-estimator-doc-link.fitted:hover,\n",
              ".sk-estimator-doc-link.fitted:hover,\n",
              "div.sk-label-container:hover .sk-estimator-doc-link.fitted:hover,\n",
              ".sk-estimator-doc-link.fitted:hover {\n",
              "  /* fitted */\n",
              "  background-color: var(--sklearn-color-fitted-level-3);\n",
              "  color: var(--sklearn-color-background);\n",
              "  text-decoration: none;\n",
              "}\n",
              "\n",
              "/* Span, style for the box shown on hovering the info icon */\n",
              ".sk-estimator-doc-link span {\n",
              "  display: none;\n",
              "  z-index: 9999;\n",
              "  position: relative;\n",
              "  font-weight: normal;\n",
              "  right: .2ex;\n",
              "  padding: .5ex;\n",
              "  margin: .5ex;\n",
              "  width: min-content;\n",
              "  min-width: 20ex;\n",
              "  max-width: 50ex;\n",
              "  color: var(--sklearn-color-text);\n",
              "  box-shadow: 2pt 2pt 4pt #999;\n",
              "  /* unfitted */\n",
              "  background: var(--sklearn-color-unfitted-level-0);\n",
              "  border: .5pt solid var(--sklearn-color-unfitted-level-3);\n",
              "}\n",
              "\n",
              ".sk-estimator-doc-link.fitted span {\n",
              "  /* fitted */\n",
              "  background: var(--sklearn-color-fitted-level-0);\n",
              "  border: var(--sklearn-color-fitted-level-3);\n",
              "}\n",
              "\n",
              ".sk-estimator-doc-link:hover span {\n",
              "  display: block;\n",
              "}\n",
              "\n",
              "/* \"?\"-specific style due to the `<a>` HTML tag */\n",
              "\n",
              "#sk-container-id-4 a.estimator_doc_link {\n",
              "  float: right;\n",
              "  font-size: 1rem;\n",
              "  line-height: 1em;\n",
              "  font-family: monospace;\n",
              "  background-color: var(--sklearn-color-background);\n",
              "  border-radius: 1rem;\n",
              "  height: 1rem;\n",
              "  width: 1rem;\n",
              "  text-decoration: none;\n",
              "  /* unfitted */\n",
              "  color: var(--sklearn-color-unfitted-level-1);\n",
              "  border: var(--sklearn-color-unfitted-level-1) 1pt solid;\n",
              "}\n",
              "\n",
              "#sk-container-id-4 a.estimator_doc_link.fitted {\n",
              "  /* fitted */\n",
              "  border: var(--sklearn-color-fitted-level-1) 1pt solid;\n",
              "  color: var(--sklearn-color-fitted-level-1);\n",
              "}\n",
              "\n",
              "/* On hover */\n",
              "#sk-container-id-4 a.estimator_doc_link:hover {\n",
              "  /* unfitted */\n",
              "  background-color: var(--sklearn-color-unfitted-level-3);\n",
              "  color: var(--sklearn-color-background);\n",
              "  text-decoration: none;\n",
              "}\n",
              "\n",
              "#sk-container-id-4 a.estimator_doc_link.fitted:hover {\n",
              "  /* fitted */\n",
              "  background-color: var(--sklearn-color-fitted-level-3);\n",
              "}\n",
              "</style><div id=\"sk-container-id-4\" class=\"sk-top-container\"><div class=\"sk-text-repr-fallback\"><pre>KNeighborsClassifier(n_neighbors=3)</pre><b>In a Jupyter environment, please rerun this cell to show the HTML representation or trust the notebook. <br />On GitHub, the HTML representation is unable to render, please try loading this page with nbviewer.org.</b></div><div class=\"sk-container\" hidden><div class=\"sk-item\"><div class=\"sk-estimator fitted sk-toggleable\"><input class=\"sk-toggleable__control sk-hidden--visually\" id=\"sk-estimator-id-4\" type=\"checkbox\" checked><label for=\"sk-estimator-id-4\" class=\"sk-toggleable__label fitted sk-toggleable__label-arrow\"><div><div>KNeighborsClassifier</div></div><div><a class=\"sk-estimator-doc-link fitted\" rel=\"noreferrer\" target=\"_blank\" href=\"https://scikit-learn.org/1.6/modules/generated/sklearn.neighbors.KNeighborsClassifier.html\">?<span>Documentation for KNeighborsClassifier</span></a><span class=\"sk-estimator-doc-link fitted\">i<span>Fitted</span></span></div></label><div class=\"sk-toggleable__content fitted\"><pre>KNeighborsClassifier(n_neighbors=3)</pre></div> </div></div></div></div>"
            ]
          },
          "metadata": {},
          "execution_count": 44
        }
      ]
    },
    {
      "cell_type": "code",
      "source": [
        "# Predictions and probabilities\n",
        "y_pred_knn = knn_model.predict(X_test)\n",
        "y_scores_knn = knn_model.predict_proba(X_test)[:, 1]  # Probabilities for the positive class\n"
      ],
      "metadata": {
        "id": "ee8VKEbyGccI"
      },
      "execution_count": 45,
      "outputs": []
    },
    {
      "cell_type": "code",
      "source": [
        "# Confusion Matrix\n",
        "cm_knn = confusion_matrix(y_test, y_pred_knn)\n",
        "print(\"k-NN Confusion Matrix:\\n\", cm_knn)\n"
      ],
      "metadata": {
        "colab": {
          "base_uri": "https://localhost:8080/"
        },
        "id": "QD0FCyzPGg2X",
        "outputId": "06735ead-5b22-419e-8628-122be21cee07"
      },
      "execution_count": 46,
      "outputs": [
        {
          "output_type": "stream",
          "name": "stdout",
          "text": [
            "k-NN Confusion Matrix:\n",
            " [[ 9 80]\n",
            " [ 4 96]]\n"
          ]
        }
      ]
    },
    {
      "cell_type": "code",
      "source": [
        "# Sensitivity and Specificity\n",
        "sensitivity_knn, specificity_knn = calculate_sensitivity_specificity(cm_knn)\n",
        "print(f\"k-NN Sensitivity: {sensitivity_knn:.2f}, Specificity: {specificity_knn:.2f}\")\n"
      ],
      "metadata": {
        "colab": {
          "base_uri": "https://localhost:8080/"
        },
        "id": "4vQt11lsGh-8",
        "outputId": "eca89889-b83c-40e3-823c-2710b01a684b"
      },
      "execution_count": 47,
      "outputs": [
        {
          "output_type": "stream",
          "name": "stdout",
          "text": [
            "k-NN Sensitivity: 0.96, Specificity: 0.10\n"
          ]
        }
      ]
    },
    {
      "cell_type": "code",
      "source": [
        "# Classification Report\n",
        "print(\"k-NN Classification Report:\\n\", classification_report(y_test, y_pred_knn))\n"
      ],
      "metadata": {
        "colab": {
          "base_uri": "https://localhost:8080/"
        },
        "id": "svQW9myCGkuR",
        "outputId": "e02a57df-0f87-4a60-c5c9-9c6fe19b9d56"
      },
      "execution_count": 48,
      "outputs": [
        {
          "output_type": "stream",
          "name": "stdout",
          "text": [
            "k-NN Classification Report:\n",
            "               precision    recall  f1-score   support\n",
            "\n",
            "           0       0.69      0.10      0.18        89\n",
            "           1       0.55      0.96      0.70       100\n",
            "\n",
            "    accuracy                           0.56       189\n",
            "   macro avg       0.62      0.53      0.44       189\n",
            "weighted avg       0.61      0.56      0.45       189\n",
            "\n"
          ]
        }
      ]
    },
    {
      "cell_type": "code",
      "source": [
        "# Plot ROC Curve\n",
        "plot_roc_curve(y_test, y_scores_knn, \"k-NN\")\n"
      ],
      "metadata": {
        "colab": {
          "base_uri": "https://localhost:8080/",
          "height": 472
        },
        "id": "GIK_5IevGnKK",
        "outputId": "8ff8a7ae-4ade-4504-a366-7e0c27269955"
      },
      "execution_count": 49,
      "outputs": [
        {
          "output_type": "display_data",
          "data": {
            "text/plain": [
              "<Figure size 640x480 with 1 Axes>"
            ],
            "image/png": "[encoded data removed]"
          },
          "metadata": {}
        }
      ]
    },
    {
      "cell_type": "code",
      "source": [
        "# Plot confusion matrix\n",
        "plot_confusion_matrix(cm_knn, \"k-NN\")\n"
      ],
      "metadata": {
        "colab": {
          "base_uri": "https://localhost:8080/",
          "height": 410
        },
        "id": "3jF-PBR3Gq5K",
        "outputId": "50532785-13a4-418f-d843-a0c8f3e6204e"
      },
      "execution_count": 50,
      "outputs": [
        {
          "output_type": "display_data",
          "data": {
            "text/plain": [
              "<Figure size 600x400 with 2 Axes>"
            ],
            "image/png": "[encoded data removed]"
          },
          "metadata": {}
        }
      ]
    },
    {
      "cell_type": "code",
      "source": [
        "# Visualize a sample test image and prediction\n",
        "idx = 0  # Index of the sample\n",
        "plt.imshow(X_test[idx].reshape(64, 64), cmap='gray')  # Reshape to 64x64\n",
        "plt.title(f\"True Label: {'Tiger' if y_test[idx] == 0 else 'Cheetah'}, Predicted: {'Tiger' if y_pred_knn[idx] == 0 else 'Cheetah'}\")\n",
        "plt.show()"
      ],
      "metadata": {
        "colab": {
          "base_uri": "https://localhost:8080/",
          "height": 452
        },
        "id": "X0Gp5X1cGtI5",
        "outputId": "d9b1a30e-cfef-438e-a86a-cc8dcf9120ef"
      },
      "execution_count": 51,
      "outputs": [
        {
          "output_type": "display_data",
          "data": {
            "text/plain": [
              "<Figure size 640x480 with 1 Axes>"
            ],
            "image/png": "[encoded data removed]"
          },
          "metadata": {}
        }
      ]
    }
  ]
}